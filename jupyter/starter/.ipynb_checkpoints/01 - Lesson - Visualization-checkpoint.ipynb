{
 "cells": [
  {
   "cell_type": "markdown",
   "id": "ff26ea89",
   "metadata": {},
   "source": [
    "# Data Visualization"
   ]
  },
  {
   "cell_type": "markdown",
   "id": "943f2359",
   "metadata": {},
   "source": [
    "![Data Science Workflow](img/ds-workflow.png)"
   ]
  },
  {
   "cell_type": "markdown",
   "id": "f7df062b",
   "metadata": {},
   "source": [
    "## Data Visualization\n",
    "\n",
    "Key skill today\n",
    ">  *“The ability to take data-to be able to understand it, to process it, to extract value from it, to visualize it, to communicate it-that’s going to be a hugely important skill in the next decades.\"*\n",
    "\n",
    "[Hal Varian (Google’s Chief Economist)](https://en.wikipedia.org/wiki/Hal_Varian)"
   ]
  },
  {
   "cell_type": "markdown",
   "id": "fb269ad4",
   "metadata": {},
   "source": [
    "## Data Visualization for a Data Scientist\n",
    "1. **Data Quality**: Explore data quality including identifying outliers\n",
    "2. **Data Exploration**: Understand data with visualizing ideas\n",
    "3. **Data Presentation**: Present results"
   ]
  },
  {
   "cell_type": "markdown",
   "id": "2dee1d5c",
   "metadata": {},
   "source": [
    "## The power of Data Visualization\n",
    "\n",
    "### Consider the following data\n",
    "- what is the connection?\n",
    "- See any patterns?"
   ]
  },
  {
   "cell_type": "code",
   "execution_count": 1,
   "id": "2b9cab1f",
   "metadata": {},
   "outputs": [],
   "source": [
    "import pandas as pd"
   ]
  },
  {
   "cell_type": "code",
   "execution_count": 17,
   "id": "3428ecce",
   "metadata": {},
   "outputs": [],
   "source": [
    "sample=pd.read_csv('files/sample_corr.csv')"
   ]
  },
  {
   "cell_type": "code",
   "execution_count": 21,
   "id": "bddd3ad8",
   "metadata": {},
   "outputs": [
    {
     "data": {
      "text/html": [
       "<div>\n",
       "<style scoped>\n",
       "    .dataframe tbody tr th:only-of-type {\n",
       "        vertical-align: middle;\n",
       "    }\n",
       "\n",
       "    .dataframe tbody tr th {\n",
       "        vertical-align: top;\n",
       "    }\n",
       "\n",
       "    .dataframe thead th {\n",
       "        text-align: right;\n",
       "    }\n",
       "</style>\n",
       "<table border=\"1\" class=\"dataframe\">\n",
       "  <thead>\n",
       "    <tr style=\"text-align: right;\">\n",
       "      <th></th>\n",
       "      <th>x</th>\n",
       "      <th>y</th>\n",
       "    </tr>\n",
       "  </thead>\n",
       "  <tbody>\n",
       "    <tr>\n",
       "      <th>0</th>\n",
       "      <td>1.105722</td>\n",
       "      <td>1.320945</td>\n",
       "    </tr>\n",
       "    <tr>\n",
       "      <th>1</th>\n",
       "      <td>1.158193</td>\n",
       "      <td>1.480131</td>\n",
       "    </tr>\n",
       "    <tr>\n",
       "      <th>2</th>\n",
       "      <td>1.068022</td>\n",
       "      <td>1.173479</td>\n",
       "    </tr>\n",
       "    <tr>\n",
       "      <th>3</th>\n",
       "      <td>1.131291</td>\n",
       "      <td>1.294706</td>\n",
       "    </tr>\n",
       "    <tr>\n",
       "      <th>4</th>\n",
       "      <td>1.125997</td>\n",
       "      <td>1.293024</td>\n",
       "    </tr>\n",
       "    <tr>\n",
       "      <th>5</th>\n",
       "      <td>1.037332</td>\n",
       "      <td>0.977393</td>\n",
       "    </tr>\n",
       "    <tr>\n",
       "      <th>6</th>\n",
       "      <td>1.051670</td>\n",
       "      <td>1.040798</td>\n",
       "    </tr>\n",
       "    <tr>\n",
       "      <th>7</th>\n",
       "      <td>0.971699</td>\n",
       "      <td>0.977604</td>\n",
       "    </tr>\n",
       "    <tr>\n",
       "      <th>8</th>\n",
       "      <td>1.102914</td>\n",
       "      <td>1.127956</td>\n",
       "    </tr>\n",
       "    <tr>\n",
       "      <th>9</th>\n",
       "      <td>1.164161</td>\n",
       "      <td>1.431070</td>\n",
       "    </tr>\n",
       "    <tr>\n",
       "      <th>10</th>\n",
       "      <td>1.161464</td>\n",
       "      <td>1.344481</td>\n",
       "    </tr>\n",
       "    <tr>\n",
       "      <th>11</th>\n",
       "      <td>1.080161</td>\n",
       "      <td>1.191159</td>\n",
       "    </tr>\n",
       "    <tr>\n",
       "      <th>12</th>\n",
       "      <td>0.996044</td>\n",
       "      <td>0.997308</td>\n",
       "    </tr>\n",
       "    <tr>\n",
       "      <th>13</th>\n",
       "      <td>1.143305</td>\n",
       "      <td>1.412850</td>\n",
       "    </tr>\n",
       "    <tr>\n",
       "      <th>14</th>\n",
       "      <td>1.062949</td>\n",
       "      <td>1.139761</td>\n",
       "    </tr>\n",
       "    <tr>\n",
       "      <th>15</th>\n",
       "      <td>1.149252</td>\n",
       "      <td>1.455886</td>\n",
       "    </tr>\n",
       "    <tr>\n",
       "      <th>16</th>\n",
       "      <td>1.190105</td>\n",
       "      <td>1.489407</td>\n",
       "    </tr>\n",
       "    <tr>\n",
       "      <th>17</th>\n",
       "      <td>1.026498</td>\n",
       "      <td>1.153031</td>\n",
       "    </tr>\n",
       "    <tr>\n",
       "      <th>18</th>\n",
       "      <td>1.110015</td>\n",
       "      <td>1.329586</td>\n",
       "    </tr>\n",
       "    <tr>\n",
       "      <th>19</th>\n",
       "      <td>1.077741</td>\n",
       "      <td>1.277995</td>\n",
       "    </tr>\n",
       "  </tbody>\n",
       "</table>\n",
       "</div>"
      ],
      "text/plain": [
       "           x         y\n",
       "0   1.105722  1.320945\n",
       "1   1.158193  1.480131\n",
       "2   1.068022  1.173479\n",
       "3   1.131291  1.294706\n",
       "4   1.125997  1.293024\n",
       "5   1.037332  0.977393\n",
       "6   1.051670  1.040798\n",
       "7   0.971699  0.977604\n",
       "8   1.102914  1.127956\n",
       "9   1.164161  1.431070\n",
       "10  1.161464  1.344481\n",
       "11  1.080161  1.191159\n",
       "12  0.996044  0.997308\n",
       "13  1.143305  1.412850\n",
       "14  1.062949  1.139761\n",
       "15  1.149252  1.455886\n",
       "16  1.190105  1.489407\n",
       "17  1.026498  1.153031\n",
       "18  1.110015  1.329586\n",
       "19  1.077741  1.277995"
      ]
     },
     "execution_count": 21,
     "metadata": {},
     "output_type": "execute_result"
    }
   ],
   "source": [
    "sample"
   ]
  },
  {
   "cell_type": "markdown",
   "id": "8ab4aa11",
   "metadata": {},
   "source": [
    "### Visualizing the same data\n",
    "- Let's try to visualize the data"
   ]
  },
  {
   "cell_type": "markdown",
   "id": "a820da43",
   "metadata": {},
   "source": [
    "[Matplotlib](https://matplotlib.org) is an easy to use visualization library for Python.\n",
    "\n",
    "In Notebooks you get started with.\n",
    "```Python\n",
    "import matplotlib.pyplot as plt\n",
    "%matplotlib inline\n",
    "```"
   ]
  },
  {
   "cell_type": "code",
   "execution_count": 7,
   "id": "d4075917",
   "metadata": {},
   "outputs": [],
   "source": [
    "import matplotlib.pyplot as plt\n",
    "%matplotlib inline"
   ]
  },
  {
   "cell_type": "code",
   "execution_count": 22,
   "id": "c6c406fd",
   "metadata": {},
   "outputs": [
    {
     "data": {
      "text/plain": [
       "<AxesSubplot:xlabel='x', ylabel='y'>"
      ]
     },
     "execution_count": 22,
     "metadata": {},
     "output_type": "execute_result"
    },
    {
     "data": {
      "image/png": "[encoded data removed]",
      "text/plain": [
       "<Figure size 432x288 with 1 Axes>"
      ]
     },
     "metadata": {
      "needs_background": "light"
     },
     "output_type": "display_data"
    }
   ],
   "source": [
    "sample.plot.scatter(x='x',y='y')"
   ]
  },
  {
   "cell_type": "code",
   "execution_count": null,
   "id": "e5171374",
   "metadata": {},
   "outputs": [],
   "source": []
  },
  {
   "cell_type": "markdown",
   "id": "d78269fd",
   "metadata": {},
   "source": [
    "### What Data Visualization gives\n",
    "- Absorb information quickly\n",
    "- Improve insights\n",
    "- Make faster decisions"
   ]
  },
  {
   "cell_type": "markdown",
   "id": "703af8d5",
   "metadata": {},
   "source": [
    "## Data Quality\n",
    "### Is the data quality usable\n",
    "\n",
    "Consider the dataset: `files/sample_height.csv`\n",
    "\n",
    "#### Check for missing values\n",
    "[`isna()`](https://pandas.pydata.org/docs/reference/api/pandas.DataFrame.isna.html)[`.any()`](https://pandas.pydata.org/docs/reference/api/pandas.DataFrame.any.html): Check for any missing values - returns True if missing values\n",
    "```Python\n",
    "data.isna().any()\n",
    "```\n",
    "\n",
    "#### Visualize data\n",
    "- Notice: you need to know something about the data\n",
    "- We know that it is heights of humans in centimeters\n",
    "- This could be checked with a histogram"
   ]
  },
  {
   "cell_type": "code",
   "execution_count": 23,
   "id": "920a4c27",
   "metadata": {},
   "outputs": [],
   "source": [
    "data=pd.read_csv('files/sample_height.csv')"
   ]
  },
  {
   "cell_type": "code",
   "execution_count": 28,
   "id": "9008d777",
   "metadata": {},
   "outputs": [
    {
     "data": {
      "text/plain": [
       "<bound method NDFrame.head of         height\n",
       "0   129.150282\n",
       "1   163.277930\n",
       "2   173.965641\n",
       "3   168.933825\n",
       "4   171.075462\n",
       "..         ...\n",
       "95  173.809723\n",
       "96  189.045440\n",
       "97    1.675962\n",
       "98    1.712382\n",
       "99  164.930814\n",
       "\n",
       "[100 rows x 1 columns]>"
      ]
     },
     "execution_count": 28,
     "metadata": {},
     "output_type": "execute_result"
    }
   ],
   "source": [
    "data.head"
   ]
  },
  {
   "cell_type": "code",
   "execution_count": 25,
   "id": "9638c5e2",
   "metadata": {},
   "outputs": [
    {
     "data": {
      "text/plain": [
       "height    False\n",
       "dtype: bool"
      ]
     },
     "execution_count": 25,
     "metadata": {},
     "output_type": "execute_result"
    }
   ],
   "source": [
    "data.isna().any()"
   ]
  },
  {
   "cell_type": "code",
   "execution_count": 29,
   "id": "6c2c6f7f",
   "metadata": {},
   "outputs": [
    {
     "data": {
      "text/html": [
       "<div>\n",
       "<style scoped>\n",
       "    .dataframe tbody tr th:only-of-type {\n",
       "        vertical-align: middle;\n",
       "    }\n",
       "\n",
       "    .dataframe tbody tr th {\n",
       "        vertical-align: top;\n",
       "    }\n",
       "\n",
       "    .dataframe thead th {\n",
       "        text-align: right;\n",
       "    }\n",
       "</style>\n",
       "<table border=\"1\" class=\"dataframe\">\n",
       "  <thead>\n",
       "    <tr style=\"text-align: right;\">\n",
       "      <th></th>\n",
       "      <th>height</th>\n",
       "    </tr>\n",
       "  </thead>\n",
       "  <tbody>\n",
       "    <tr>\n",
       "      <th>0</th>\n",
       "      <td>129.150282</td>\n",
       "    </tr>\n",
       "    <tr>\n",
       "      <th>1</th>\n",
       "      <td>163.277930</td>\n",
       "    </tr>\n",
       "    <tr>\n",
       "      <th>2</th>\n",
       "      <td>173.965641</td>\n",
       "    </tr>\n",
       "    <tr>\n",
       "      <th>3</th>\n",
       "      <td>168.933825</td>\n",
       "    </tr>\n",
       "    <tr>\n",
       "      <th>4</th>\n",
       "      <td>171.075462</td>\n",
       "    </tr>\n",
       "    <tr>\n",
       "      <th>5</th>\n",
       "      <td>175.167680</td>\n",
       "    </tr>\n",
       "    <tr>\n",
       "      <th>6</th>\n",
       "      <td>178.035986</td>\n",
       "    </tr>\n",
       "    <tr>\n",
       "      <th>7</th>\n",
       "      <td>187.769084</td>\n",
       "    </tr>\n",
       "    <tr>\n",
       "      <th>8</th>\n",
       "      <td>177.702341</td>\n",
       "    </tr>\n",
       "    <tr>\n",
       "      <th>9</th>\n",
       "      <td>151.944172</td>\n",
       "    </tr>\n",
       "    <tr>\n",
       "      <th>10</th>\n",
       "      <td>172.123204</td>\n",
       "    </tr>\n",
       "    <tr>\n",
       "      <th>11</th>\n",
       "      <td>182.118571</td>\n",
       "    </tr>\n",
       "    <tr>\n",
       "      <th>12</th>\n",
       "      <td>181.492740</td>\n",
       "    </tr>\n",
       "    <tr>\n",
       "      <th>13</th>\n",
       "      <td>168.784637</td>\n",
       "    </tr>\n",
       "    <tr>\n",
       "      <th>14</th>\n",
       "      <td>186.607238</td>\n",
       "    </tr>\n",
       "    <tr>\n",
       "      <th>15</th>\n",
       "      <td>154.395957</td>\n",
       "    </tr>\n",
       "    <tr>\n",
       "      <th>16</th>\n",
       "      <td>157.284747</td>\n",
       "    </tr>\n",
       "    <tr>\n",
       "      <th>17</th>\n",
       "      <td>1.913196</td>\n",
       "    </tr>\n",
       "    <tr>\n",
       "      <th>18</th>\n",
       "      <td>157.625995</td>\n",
       "    </tr>\n",
       "    <tr>\n",
       "      <th>19</th>\n",
       "      <td>156.569690</td>\n",
       "    </tr>\n",
       "  </tbody>\n",
       "</table>\n",
       "</div>"
      ],
      "text/plain": [
       "        height\n",
       "0   129.150282\n",
       "1   163.277930\n",
       "2   173.965641\n",
       "3   168.933825\n",
       "4   171.075462\n",
       "5   175.167680\n",
       "6   178.035986\n",
       "7   187.769084\n",
       "8   177.702341\n",
       "9   151.944172\n",
       "10  172.123204\n",
       "11  182.118571\n",
       "12  181.492740\n",
       "13  168.784637\n",
       "14  186.607238\n",
       "15  154.395957\n",
       "16  157.284747\n",
       "17    1.913196\n",
       "18  157.625995\n",
       "19  156.569690"
      ]
     },
     "execution_count": 29,
     "metadata": {},
     "output_type": "execute_result"
    }
   ],
   "source": [
    "data.head(20)"
   ]
  },
  {
   "cell_type": "code",
   "execution_count": null,
   "id": "bcb45b68",
   "metadata": {},
   "outputs": [],
   "source": []
  },
  {
   "cell_type": "markdown",
   "id": "9f52f1b5",
   "metadata": {},
   "source": [
    "### Identifying outliers\n",
    "\n",
    "Consider the dataset: `files/sample_age.csv`\n",
    "\n",
    "#### Visualize with a histogram\n",
    "- This gives fast insights\n",
    "\n",
    "#### Describe the data\n",
    "[`describe()`](https://pandas.pydata.org/docs/reference/api/pandas.DataFrame.describe.html): Makes simple statistics of the DataFrame\n",
    "```Python\n",
    "data.describe()\n",
    "```"
   ]
  },
  {
   "cell_type": "code",
   "execution_count": 30,
   "id": "76c9e5bc",
   "metadata": {},
   "outputs": [
    {
     "data": {
      "text/plain": [
       "<AxesSubplot:ylabel='Frequency'>"
      ]
     },
     "execution_count": 30,
     "metadata": {},
     "output_type": "execute_result"
    },
    {
     "data": {
      "image/png": "[encoded data removed]",
      "text/plain": [
       "<Figure size 432x288 with 1 Axes>"
      ]
     },
     "metadata": {
      "needs_background": "light"
     },
     "output_type": "display_data"
    }
   ],
   "source": [
    "data.plot.hist()"
   ]
  },
  {
   "cell_type": "code",
   "execution_count": 31,
   "id": "f91096fd",
   "metadata": {},
   "outputs": [
    {
     "data": {
      "text/html": [
       "<div>\n",
       "<style scoped>\n",
       "    .dataframe tbody tr th:only-of-type {\n",
       "        vertical-align: middle;\n",
       "    }\n",
       "\n",
       "    .dataframe tbody tr th {\n",
       "        vertical-align: top;\n",
       "    }\n",
       "\n",
       "    .dataframe thead th {\n",
       "        text-align: right;\n",
       "    }\n",
       "</style>\n",
       "<table border=\"1\" class=\"dataframe\">\n",
       "  <thead>\n",
       "    <tr style=\"text-align: right;\">\n",
       "      <th></th>\n",
       "      <th>height</th>\n",
       "    </tr>\n",
       "  </thead>\n",
       "  <tbody>\n",
       "    <tr>\n",
       "      <th>17</th>\n",
       "      <td>1.913196</td>\n",
       "    </tr>\n",
       "    <tr>\n",
       "      <th>22</th>\n",
       "      <td>1.629159</td>\n",
       "    </tr>\n",
       "    <tr>\n",
       "      <th>23</th>\n",
       "      <td>1.753424</td>\n",
       "    </tr>\n",
       "    <tr>\n",
       "      <th>27</th>\n",
       "      <td>1.854795</td>\n",
       "    </tr>\n",
       "    <tr>\n",
       "      <th>50</th>\n",
       "      <td>1.914587</td>\n",
       "    </tr>\n",
       "    <tr>\n",
       "      <th>60</th>\n",
       "      <td>1.642295</td>\n",
       "    </tr>\n",
       "    <tr>\n",
       "      <th>73</th>\n",
       "      <td>1.804588</td>\n",
       "    </tr>\n",
       "    <tr>\n",
       "      <th>82</th>\n",
       "      <td>1.573621</td>\n",
       "    </tr>\n",
       "    <tr>\n",
       "      <th>91</th>\n",
       "      <td>1.550227</td>\n",
       "    </tr>\n",
       "    <tr>\n",
       "      <th>94</th>\n",
       "      <td>1.660700</td>\n",
       "    </tr>\n",
       "    <tr>\n",
       "      <th>97</th>\n",
       "      <td>1.675962</td>\n",
       "    </tr>\n",
       "    <tr>\n",
       "      <th>98</th>\n",
       "      <td>1.712382</td>\n",
       "    </tr>\n",
       "  </tbody>\n",
       "</table>\n",
       "</div>"
      ],
      "text/plain": [
       "      height\n",
       "17  1.913196\n",
       "22  1.629159\n",
       "23  1.753424\n",
       "27  1.854795\n",
       "50  1.914587\n",
       "60  1.642295\n",
       "73  1.804588\n",
       "82  1.573621\n",
       "91  1.550227\n",
       "94  1.660700\n",
       "97  1.675962\n",
       "98  1.712382"
      ]
     },
     "execution_count": 31,
     "metadata": {},
     "output_type": "execute_result"
    }
   ],
   "source": [
    "data[data['height']<50]"
   ]
  },
  {
   "cell_type": "code",
   "execution_count": 33,
   "id": "955cc880",
   "metadata": {},
   "outputs": [
    {
     "name": "stdout",
     "output_type": "stream",
     "text": [
      "      height\n",
      "17  1.913196\n",
      "22  1.629159\n",
      "23  1.753424\n",
      "27  1.854795\n",
      "50  1.914587\n",
      "60  1.642295\n",
      "73  1.804588\n",
      "82  1.573621\n",
      "91  1.550227\n",
      "94  1.660700\n",
      "97  1.675962\n",
      "98  1.712382\n"
     ]
    }
   ],
   "source": [
    "print(data[data['height']<50])"
   ]
  },
  {
   "cell_type": "code",
   "execution_count": 35,
   "id": "ee411909",
   "metadata": {},
   "outputs": [],
   "source": [
    "data=pd.read_csv('files/sample_age.csv')"
   ]
  },
  {
   "cell_type": "code",
   "execution_count": 36,
   "id": "c113f529",
   "metadata": {},
   "outputs": [
    {
     "data": {
      "text/plain": [
       "<bound method NDFrame.head of           age\n",
       "0   30.175921\n",
       "1   32.002551\n",
       "2   44.518393\n",
       "3   56.247751\n",
       "4   33.111986\n",
       "..        ...\n",
       "95  26.682289\n",
       "96  48.820094\n",
       "97  59.349701\n",
       "98  46.718451\n",
       "99  39.332657\n",
       "\n",
       "[100 rows x 1 columns]>"
      ]
     },
     "execution_count": 36,
     "metadata": {},
     "output_type": "execute_result"
    }
   ],
   "source": [
    "data.head"
   ]
  },
  {
   "cell_type": "code",
   "execution_count": 38,
   "id": "abd6975c",
   "metadata": {},
   "outputs": [
    {
     "data": {
      "text/html": [
       "<div>\n",
       "<style scoped>\n",
       "    .dataframe tbody tr th:only-of-type {\n",
       "        vertical-align: middle;\n",
       "    }\n",
       "\n",
       "    .dataframe tbody tr th {\n",
       "        vertical-align: top;\n",
       "    }\n",
       "\n",
       "    .dataframe thead th {\n",
       "        text-align: right;\n",
       "    }\n",
       "</style>\n",
       "<table border=\"1\" class=\"dataframe\">\n",
       "  <thead>\n",
       "    <tr style=\"text-align: right;\">\n",
       "      <th></th>\n",
       "      <th>age</th>\n",
       "    </tr>\n",
       "  </thead>\n",
       "  <tbody>\n",
       "    <tr>\n",
       "      <th>count</th>\n",
       "      <td>100.000000</td>\n",
       "    </tr>\n",
       "    <tr>\n",
       "      <th>mean</th>\n",
       "      <td>42.305997</td>\n",
       "    </tr>\n",
       "    <tr>\n",
       "      <th>std</th>\n",
       "      <td>29.229478</td>\n",
       "    </tr>\n",
       "    <tr>\n",
       "      <th>min</th>\n",
       "      <td>18.273781</td>\n",
       "    </tr>\n",
       "    <tr>\n",
       "      <th>25%</th>\n",
       "      <td>31.871113</td>\n",
       "    </tr>\n",
       "    <tr>\n",
       "      <th>50%</th>\n",
       "      <td>39.376896</td>\n",
       "    </tr>\n",
       "    <tr>\n",
       "      <th>75%</th>\n",
       "      <td>47.779303</td>\n",
       "    </tr>\n",
       "    <tr>\n",
       "      <th>max</th>\n",
       "      <td>314.000000</td>\n",
       "    </tr>\n",
       "  </tbody>\n",
       "</table>\n",
       "</div>"
      ],
      "text/plain": [
       "              age\n",
       "count  100.000000\n",
       "mean    42.305997\n",
       "std     29.229478\n",
       "min     18.273781\n",
       "25%     31.871113\n",
       "50%     39.376896\n",
       "75%     47.779303\n",
       "max    314.000000"
      ]
     },
     "execution_count": 38,
     "metadata": {},
     "output_type": "execute_result"
    }
   ],
   "source": [
    "data.describe()"
   ]
  },
  {
   "cell_type": "code",
   "execution_count": 39,
   "id": "29050dc3",
   "metadata": {},
   "outputs": [
    {
     "data": {
      "text/html": [
       "<div>\n",
       "<style scoped>\n",
       "    .dataframe tbody tr th:only-of-type {\n",
       "        vertical-align: middle;\n",
       "    }\n",
       "\n",
       "    .dataframe tbody tr th {\n",
       "        vertical-align: top;\n",
       "    }\n",
       "\n",
       "    .dataframe thead th {\n",
       "        text-align: right;\n",
       "    }\n",
       "</style>\n",
       "<table border=\"1\" class=\"dataframe\">\n",
       "  <thead>\n",
       "    <tr style=\"text-align: right;\">\n",
       "      <th></th>\n",
       "      <th>age</th>\n",
       "    </tr>\n",
       "  </thead>\n",
       "  <tbody>\n",
       "    <tr>\n",
       "      <th>31</th>\n",
       "      <td>314.0</td>\n",
       "    </tr>\n",
       "  </tbody>\n",
       "</table>\n",
       "</div>"
      ],
      "text/plain": [
       "      age\n",
       "31  314.0"
      ]
     },
     "execution_count": 39,
     "metadata": {},
     "output_type": "execute_result"
    }
   ],
   "source": [
    "data[data['age']>110]"
   ]
  },
  {
   "cell_type": "code",
   "execution_count": 40,
   "id": "aff327ba",
   "metadata": {},
   "outputs": [
    {
     "data": {
      "text/plain": [
       "<AxesSubplot:ylabel='Frequency'>"
      ]
     },
     "execution_count": 40,
     "metadata": {},
     "output_type": "execute_result"
    },
    {
     "data": {
      "image/png": "[encoded data removed]",
      "text/plain": [
       "<Figure size 432x288 with 1 Axes>"
      ]
     },
     "metadata": {
      "needs_background": "light"
     },
     "output_type": "display_data"
    }
   ],
   "source": [
    "data.plot.hist()"
   ]
  },
  {
   "cell_type": "markdown",
   "id": "f8552b42",
   "metadata": {},
   "source": [
    "## Data Exploration\n",
    "\n",
    "### Data Visaulization\n",
    "- Absorb information quickly\n",
    "- Improve insights\n",
    "- Make faster decisions"
   ]
  },
  {
   "cell_type": "markdown",
   "id": "af0b3042",
   "metadata": {},
   "source": [
    "### World Bank\n",
    "The [World Bank](https://www.worldbank.org/en/home) is a great source of datasets\n",
    "\n",
    "#### CO2 per capita\n",
    "- Let's explore this dataset [EN.ATM.CO2E.PC](https://data.worldbank.org/indicator/EN.ATM.CO2E.PC)\n",
    "- Already available here: `files/WorldBank-ATM.CO2E.PC_DS2.csv`\n",
    "\n",
    "#### Explore typical Data Visualizations\n",
    "- Simple plot\n",
    "- Set title\n",
    "- Set labels\n",
    "- Adjust axis"
   ]
  },
  {
   "cell_type": "markdown",
   "id": "15adfd6a",
   "metadata": {},
   "source": [
    "#### Read the data"
   ]
  },
  {
   "cell_type": "code",
   "execution_count": 41,
   "id": "fa2831fd",
   "metadata": {},
   "outputs": [],
   "source": [
    "data=pd.read_csv('files/WorldBank-ATM.CO2E.PC_DS2.csv')"
   ]
  },
  {
   "cell_type": "code",
   "execution_count": 43,
   "id": "3345eb5a",
   "metadata": {},
   "outputs": [
    {
     "data": {
      "text/html": [
       "<div>\n",
       "<style scoped>\n",
       "    .dataframe tbody tr th:only-of-type {\n",
       "        vertical-align: middle;\n",
       "    }\n",
       "\n",
       "    .dataframe tbody tr th {\n",
       "        vertical-align: top;\n",
       "    }\n",
       "\n",
       "    .dataframe thead th {\n",
       "        text-align: right;\n",
       "    }\n",
       "</style>\n",
       "<table border=\"1\" class=\"dataframe\">\n",
       "  <thead>\n",
       "    <tr style=\"text-align: right;\">\n",
       "      <th></th>\n",
       "      <th>Year</th>\n",
       "      <th>ABW</th>\n",
       "      <th>AFE</th>\n",
       "      <th>AFG</th>\n",
       "      <th>AFW</th>\n",
       "      <th>AGO</th>\n",
       "      <th>ALB</th>\n",
       "      <th>AND</th>\n",
       "      <th>ARB</th>\n",
       "      <th>ARE</th>\n",
       "      <th>...</th>\n",
       "      <th>VIR</th>\n",
       "      <th>VNM</th>\n",
       "      <th>VUT</th>\n",
       "      <th>WLD</th>\n",
       "      <th>WSM</th>\n",
       "      <th>XKX</th>\n",
       "      <th>YEM</th>\n",
       "      <th>ZAF</th>\n",
       "      <th>ZMB</th>\n",
       "      <th>ZWE</th>\n",
       "    </tr>\n",
       "  </thead>\n",
       "  <tbody>\n",
       "    <tr>\n",
       "      <th>0</th>\n",
       "      <td>1960</td>\n",
       "      <td>204.631696</td>\n",
       "      <td>0.906060</td>\n",
       "      <td>0.046057</td>\n",
       "      <td>0.090880</td>\n",
       "      <td>0.100835</td>\n",
       "      <td>1.258195</td>\n",
       "      <td>NaN</td>\n",
       "      <td>0.609268</td>\n",
       "      <td>0.119037</td>\n",
       "      <td>...</td>\n",
       "      <td>NaN</td>\n",
       "      <td>0.181947</td>\n",
       "      <td>NaN</td>\n",
       "      <td>3.121158</td>\n",
       "      <td>0.135031</td>\n",
       "      <td>NaN</td>\n",
       "      <td>0.011038</td>\n",
       "      <td>5.727223</td>\n",
       "      <td>NaN</td>\n",
       "      <td>NaN</td>\n",
       "    </tr>\n",
       "    <tr>\n",
       "      <th>1</th>\n",
       "      <td>1961</td>\n",
       "      <td>208.837879</td>\n",
       "      <td>0.922474</td>\n",
       "      <td>0.053589</td>\n",
       "      <td>0.095283</td>\n",
       "      <td>0.082204</td>\n",
       "      <td>1.374186</td>\n",
       "      <td>NaN</td>\n",
       "      <td>0.662618</td>\n",
       "      <td>0.109136</td>\n",
       "      <td>...</td>\n",
       "      <td>NaN</td>\n",
       "      <td>0.183099</td>\n",
       "      <td>NaN</td>\n",
       "      <td>3.068090</td>\n",
       "      <td>0.163542</td>\n",
       "      <td>NaN</td>\n",
       "      <td>0.013599</td>\n",
       "      <td>5.832621</td>\n",
       "      <td>NaN</td>\n",
       "      <td>NaN</td>\n",
       "    </tr>\n",
       "    <tr>\n",
       "      <th>2</th>\n",
       "      <td>1962</td>\n",
       "      <td>226.081890</td>\n",
       "      <td>0.930816</td>\n",
       "      <td>0.073721</td>\n",
       "      <td>0.096612</td>\n",
       "      <td>0.210533</td>\n",
       "      <td>1.439956</td>\n",
       "      <td>NaN</td>\n",
       "      <td>0.727117</td>\n",
       "      <td>0.163542</td>\n",
       "      <td>...</td>\n",
       "      <td>NaN</td>\n",
       "      <td>0.217694</td>\n",
       "      <td>0.595002</td>\n",
       "      <td>3.114839</td>\n",
       "      <td>0.158377</td>\n",
       "      <td>NaN</td>\n",
       "      <td>0.012729</td>\n",
       "      <td>5.887168</td>\n",
       "      <td>NaN</td>\n",
       "      <td>NaN</td>\n",
       "    </tr>\n",
       "    <tr>\n",
       "      <th>3</th>\n",
       "      <td>1963</td>\n",
       "      <td>214.785217</td>\n",
       "      <td>0.940570</td>\n",
       "      <td>0.074161</td>\n",
       "      <td>0.112376</td>\n",
       "      <td>0.202739</td>\n",
       "      <td>1.181681</td>\n",
       "      <td>NaN</td>\n",
       "      <td>0.853116</td>\n",
       "      <td>0.175833</td>\n",
       "      <td>...</td>\n",
       "      <td>NaN</td>\n",
       "      <td>0.196997</td>\n",
       "      <td>0.471849</td>\n",
       "      <td>3.221195</td>\n",
       "      <td>0.184037</td>\n",
       "      <td>NaN</td>\n",
       "      <td>0.014518</td>\n",
       "      <td>5.961337</td>\n",
       "      <td>NaN</td>\n",
       "      <td>NaN</td>\n",
       "    </tr>\n",
       "    <tr>\n",
       "      <th>4</th>\n",
       "      <td>1964</td>\n",
       "      <td>207.626699</td>\n",
       "      <td>0.996033</td>\n",
       "      <td>0.086174</td>\n",
       "      <td>0.133258</td>\n",
       "      <td>0.213562</td>\n",
       "      <td>1.111742</td>\n",
       "      <td>NaN</td>\n",
       "      <td>0.972381</td>\n",
       "      <td>0.132815</td>\n",
       "      <td>...</td>\n",
       "      <td>NaN</td>\n",
       "      <td>0.209870</td>\n",
       "      <td>0.864427</td>\n",
       "      <td>3.324046</td>\n",
       "      <td>0.208106</td>\n",
       "      <td>NaN</td>\n",
       "      <td>0.017550</td>\n",
       "      <td>6.332343</td>\n",
       "      <td>0.946606</td>\n",
       "      <td>1.034904</td>\n",
       "    </tr>\n",
       "  </tbody>\n",
       "</table>\n",
       "<p>5 rows × 267 columns</p>\n",
       "</div>"
      ],
      "text/plain": [
       "   Year         ABW       AFE       AFG       AFW       AGO       ALB  AND  \\\n",
       "0  1960  204.631696  0.906060  0.046057  0.090880  0.100835  1.258195  NaN   \n",
       "1  1961  208.837879  0.922474  0.053589  0.095283  0.082204  1.374186  NaN   \n",
       "2  1962  226.081890  0.930816  0.073721  0.096612  0.210533  1.439956  NaN   \n",
       "3  1963  214.785217  0.940570  0.074161  0.112376  0.202739  1.181681  NaN   \n",
       "4  1964  207.626699  0.996033  0.086174  0.133258  0.213562  1.111742  NaN   \n",
       "\n",
       "        ARB       ARE  ...  VIR       VNM       VUT       WLD       WSM  XKX  \\\n",
       "0  0.609268  0.119037  ...  NaN  0.181947       NaN  3.121158  0.135031  NaN   \n",
       "1  0.662618  0.109136  ...  NaN  0.183099       NaN  3.068090  0.163542  NaN   \n",
       "2  0.727117  0.163542  ...  NaN  0.217694  0.595002  3.114839  0.158377  NaN   \n",
       "3  0.853116  0.175833  ...  NaN  0.196997  0.471849  3.221195  0.184037  NaN   \n",
       "4  0.972381  0.132815  ...  NaN  0.209870  0.864427  3.324046  0.208106  NaN   \n",
       "\n",
       "        YEM       ZAF       ZMB       ZWE  \n",
       "0  0.011038  5.727223       NaN       NaN  \n",
       "1  0.013599  5.832621       NaN       NaN  \n",
       "2  0.012729  5.887168       NaN       NaN  \n",
       "3  0.014518  5.961337       NaN       NaN  \n",
       "4  0.017550  6.332343  0.946606  1.034904  \n",
       "\n",
       "[5 rows x 267 columns]"
      ]
     },
     "execution_count": 43,
     "metadata": {},
     "output_type": "execute_result"
    }
   ],
   "source": [
    "data.head()"
   ]
  },
  {
   "cell_type": "code",
   "execution_count": 44,
   "id": "6ffda8ea",
   "metadata": {},
   "outputs": [],
   "source": [
    "data=pd.read_csv('files/WorldBank-ATM.CO2E.PC_DS2.csv',index_col=0)"
   ]
  },
  {
   "cell_type": "code",
   "execution_count": 45,
   "id": "163ae63b",
   "metadata": {},
   "outputs": [
    {
     "data": {
      "text/html": [
       "<div>\n",
       "<style scoped>\n",
       "    .dataframe tbody tr th:only-of-type {\n",
       "        vertical-align: middle;\n",
       "    }\n",
       "\n",
       "    .dataframe tbody tr th {\n",
       "        vertical-align: top;\n",
       "    }\n",
       "\n",
       "    .dataframe thead th {\n",
       "        text-align: right;\n",
       "    }\n",
       "</style>\n",
       "<table border=\"1\" class=\"dataframe\">\n",
       "  <thead>\n",
       "    <tr style=\"text-align: right;\">\n",
       "      <th></th>\n",
       "      <th>ABW</th>\n",
       "      <th>AFE</th>\n",
       "      <th>AFG</th>\n",
       "      <th>AFW</th>\n",
       "      <th>AGO</th>\n",
       "      <th>ALB</th>\n",
       "      <th>AND</th>\n",
       "      <th>ARB</th>\n",
       "      <th>ARE</th>\n",
       "      <th>ARG</th>\n",
       "      <th>...</th>\n",
       "      <th>VIR</th>\n",
       "      <th>VNM</th>\n",
       "      <th>VUT</th>\n",
       "      <th>WLD</th>\n",
       "      <th>WSM</th>\n",
       "      <th>XKX</th>\n",
       "      <th>YEM</th>\n",
       "      <th>ZAF</th>\n",
       "      <th>ZMB</th>\n",
       "      <th>ZWE</th>\n",
       "    </tr>\n",
       "    <tr>\n",
       "      <th>Year</th>\n",
       "      <th></th>\n",
       "      <th></th>\n",
       "      <th></th>\n",
       "      <th></th>\n",
       "      <th></th>\n",
       "      <th></th>\n",
       "      <th></th>\n",
       "      <th></th>\n",
       "      <th></th>\n",
       "      <th></th>\n",
       "      <th></th>\n",
       "      <th></th>\n",
       "      <th></th>\n",
       "      <th></th>\n",
       "      <th></th>\n",
       "      <th></th>\n",
       "      <th></th>\n",
       "      <th></th>\n",
       "      <th></th>\n",
       "      <th></th>\n",
       "      <th></th>\n",
       "    </tr>\n",
       "  </thead>\n",
       "  <tbody>\n",
       "    <tr>\n",
       "      <th>1960</th>\n",
       "      <td>204.631696</td>\n",
       "      <td>0.906060</td>\n",
       "      <td>0.046057</td>\n",
       "      <td>0.090880</td>\n",
       "      <td>0.100835</td>\n",
       "      <td>1.258195</td>\n",
       "      <td>NaN</td>\n",
       "      <td>0.609268</td>\n",
       "      <td>0.119037</td>\n",
       "      <td>2.383343</td>\n",
       "      <td>...</td>\n",
       "      <td>NaN</td>\n",
       "      <td>0.181947</td>\n",
       "      <td>NaN</td>\n",
       "      <td>3.121158</td>\n",
       "      <td>0.135031</td>\n",
       "      <td>NaN</td>\n",
       "      <td>0.011038</td>\n",
       "      <td>5.727223</td>\n",
       "      <td>NaN</td>\n",
       "      <td>NaN</td>\n",
       "    </tr>\n",
       "    <tr>\n",
       "      <th>1961</th>\n",
       "      <td>208.837879</td>\n",
       "      <td>0.922474</td>\n",
       "      <td>0.053589</td>\n",
       "      <td>0.095283</td>\n",
       "      <td>0.082204</td>\n",
       "      <td>1.374186</td>\n",
       "      <td>NaN</td>\n",
       "      <td>0.662618</td>\n",
       "      <td>0.109136</td>\n",
       "      <td>2.458551</td>\n",
       "      <td>...</td>\n",
       "      <td>NaN</td>\n",
       "      <td>0.183099</td>\n",
       "      <td>NaN</td>\n",
       "      <td>3.068090</td>\n",
       "      <td>0.163542</td>\n",
       "      <td>NaN</td>\n",
       "      <td>0.013599</td>\n",
       "      <td>5.832621</td>\n",
       "      <td>NaN</td>\n",
       "      <td>NaN</td>\n",
       "    </tr>\n",
       "    <tr>\n",
       "      <th>1962</th>\n",
       "      <td>226.081890</td>\n",
       "      <td>0.930816</td>\n",
       "      <td>0.073721</td>\n",
       "      <td>0.096612</td>\n",
       "      <td>0.210533</td>\n",
       "      <td>1.439956</td>\n",
       "      <td>NaN</td>\n",
       "      <td>0.727117</td>\n",
       "      <td>0.163542</td>\n",
       "      <td>2.538447</td>\n",
       "      <td>...</td>\n",
       "      <td>NaN</td>\n",
       "      <td>0.217694</td>\n",
       "      <td>0.595002</td>\n",
       "      <td>3.114839</td>\n",
       "      <td>0.158377</td>\n",
       "      <td>NaN</td>\n",
       "      <td>0.012729</td>\n",
       "      <td>5.887168</td>\n",
       "      <td>NaN</td>\n",
       "      <td>NaN</td>\n",
       "    </tr>\n",
       "    <tr>\n",
       "      <th>1963</th>\n",
       "      <td>214.785217</td>\n",
       "      <td>0.940570</td>\n",
       "      <td>0.074161</td>\n",
       "      <td>0.112376</td>\n",
       "      <td>0.202739</td>\n",
       "      <td>1.181681</td>\n",
       "      <td>NaN</td>\n",
       "      <td>0.853116</td>\n",
       "      <td>0.175833</td>\n",
       "      <td>2.330685</td>\n",
       "      <td>...</td>\n",
       "      <td>NaN</td>\n",
       "      <td>0.196997</td>\n",
       "      <td>0.471849</td>\n",
       "      <td>3.221195</td>\n",
       "      <td>0.184037</td>\n",
       "      <td>NaN</td>\n",
       "      <td>0.014518</td>\n",
       "      <td>5.961337</td>\n",
       "      <td>NaN</td>\n",
       "      <td>NaN</td>\n",
       "    </tr>\n",
       "    <tr>\n",
       "      <th>1964</th>\n",
       "      <td>207.626699</td>\n",
       "      <td>0.996033</td>\n",
       "      <td>0.086174</td>\n",
       "      <td>0.133258</td>\n",
       "      <td>0.213562</td>\n",
       "      <td>1.111742</td>\n",
       "      <td>NaN</td>\n",
       "      <td>0.972381</td>\n",
       "      <td>0.132815</td>\n",
       "      <td>2.553442</td>\n",
       "      <td>...</td>\n",
       "      <td>NaN</td>\n",
       "      <td>0.209870</td>\n",
       "      <td>0.864427</td>\n",
       "      <td>3.324046</td>\n",
       "      <td>0.208106</td>\n",
       "      <td>NaN</td>\n",
       "      <td>0.017550</td>\n",
       "      <td>6.332343</td>\n",
       "      <td>0.946606</td>\n",
       "      <td>1.034904</td>\n",
       "    </tr>\n",
       "  </tbody>\n",
       "</table>\n",
       "<p>5 rows × 266 columns</p>\n",
       "</div>"
      ],
      "text/plain": [
       "             ABW       AFE       AFG       AFW       AGO       ALB  AND  \\\n",
       "Year                                                                      \n",
       "1960  204.631696  0.906060  0.046057  0.090880  0.100835  1.258195  NaN   \n",
       "1961  208.837879  0.922474  0.053589  0.095283  0.082204  1.374186  NaN   \n",
       "1962  226.081890  0.930816  0.073721  0.096612  0.210533  1.439956  NaN   \n",
       "1963  214.785217  0.940570  0.074161  0.112376  0.202739  1.181681  NaN   \n",
       "1964  207.626699  0.996033  0.086174  0.133258  0.213562  1.111742  NaN   \n",
       "\n",
       "           ARB       ARE       ARG  ...  VIR       VNM       VUT       WLD  \\\n",
       "Year                                ...                                      \n",
       "1960  0.609268  0.119037  2.383343  ...  NaN  0.181947       NaN  3.121158   \n",
       "1961  0.662618  0.109136  2.458551  ...  NaN  0.183099       NaN  3.068090   \n",
       "1962  0.727117  0.163542  2.538447  ...  NaN  0.217694  0.595002  3.114839   \n",
       "1963  0.853116  0.175833  2.330685  ...  NaN  0.196997  0.471849  3.221195   \n",
       "1964  0.972381  0.132815  2.553442  ...  NaN  0.209870  0.864427  3.324046   \n",
       "\n",
       "           WSM  XKX       YEM       ZAF       ZMB       ZWE  \n",
       "Year                                                         \n",
       "1960  0.135031  NaN  0.011038  5.727223       NaN       NaN  \n",
       "1961  0.163542  NaN  0.013599  5.832621       NaN       NaN  \n",
       "1962  0.158377  NaN  0.012729  5.887168       NaN       NaN  \n",
       "1963  0.184037  NaN  0.014518  5.961337       NaN       NaN  \n",
       "1964  0.208106  NaN  0.017550  6.332343  0.946606  1.034904  \n",
       "\n",
       "[5 rows x 266 columns]"
      ]
     },
     "execution_count": 45,
     "metadata": {},
     "output_type": "execute_result"
    }
   ],
   "source": [
    "data.head()"
   ]
  },
  {
   "cell_type": "markdown",
   "id": "9452886d",
   "metadata": {},
   "source": [
    "#### Simple plot\n",
    "- ```.plot()``` Creates a simple plot of data\n",
    "- This gives you an idea of the data"
   ]
  },
  {
   "cell_type": "code",
   "execution_count": 46,
   "id": "1357fea3",
   "metadata": {},
   "outputs": [
    {
     "data": {
      "text/plain": [
       "<AxesSubplot:xlabel='Year'>"
      ]
     },
     "execution_count": 46,
     "metadata": {},
     "output_type": "execute_result"
    },
    {
     "data": {
      "image/png": "[encoded data removed]",
      "text/plain": [
       "<Figure size 432x288 with 1 Axes>"
      ]
     },
     "metadata": {
      "needs_background": "light"
     },
     "output_type": "display_data"
    }
   ],
   "source": [
    "data['USA'].plot()"
   ]
  },
  {
   "cell_type": "code",
   "execution_count": 47,
   "id": "6c155405",
   "metadata": {},
   "outputs": [
    {
     "data": {
      "text/plain": [
       "<AxesSubplot:xlabel='Year'>"
      ]
     },
     "execution_count": 47,
     "metadata": {},
     "output_type": "execute_result"
    },
    {
     "data": {
      "image/png": "[encoded data removed]",
      "text/plain": [
       "<Figure size 432x288 with 1 Axes>"
      ]
     },
     "metadata": {
      "needs_background": "light"
     },
     "output_type": "display_data"
    }
   ],
   "source": [
    "data['USA'].plot(ylim=0)"
   ]
  },
  {
   "cell_type": "markdown",
   "id": "59db0683",
   "metadata": {},
   "source": [
    "#### Adding title and labels\n",
    "Arguments\n",
    "- ```title='Tilte'``` adds the title\n",
    "- ```xlabel='X label'``` adds or changes the X-label\n",
    "- ```ylabel='X label'``` adds or changes the Y-label"
   ]
  },
  {
   "cell_type": "code",
   "execution_count": 51,
   "id": "46ccc8be",
   "metadata": {},
   "outputs": [
    {
     "data": {
      "text/plain": [
       "<AxesSubplot:title={'center':'CO2 per capita in USA'}, xlabel='Year'>"
      ]
     },
     "execution_count": 51,
     "metadata": {},
     "output_type": "execute_result"
    },
    {
     "data": {
      "image/png": "[encoded data removed]",
      "text/plain": [
       "<Figure size 432x288 with 1 Axes>"
      ]
     },
     "metadata": {
      "needs_background": "light"
     },
     "output_type": "display_data"
    }
   ],
   "source": [
    "data['USA'].plot(title='CO2 per capita in USA')"
   ]
  },
  {
   "cell_type": "code",
   "execution_count": 52,
   "id": "229a133b",
   "metadata": {},
   "outputs": [
    {
     "data": {
      "text/plain": [
       "<AxesSubplot:title={'center':'CO2 per capita in USA'}, xlabel='Year', ylabel='CO2 per capita'>"
      ]
     },
     "execution_count": 52,
     "metadata": {},
     "output_type": "execute_result"
    },
    {
     "data": {
      "image/png": "[encoded data removed]",
      "text/plain": [
       "<Figure size 432x288 with 1 Axes>"
      ]
     },
     "metadata": {
      "needs_background": "light"
     },
     "output_type": "display_data"
    }
   ],
   "source": [
    "data['USA'].plot(title='CO2 per capita in USA',ylabel='CO2 per capita')"
   ]
  },
  {
   "cell_type": "markdown",
   "id": "22986250",
   "metadata": {},
   "source": [
    "#### Adding axis range\n",
    "- ```xlim=(min, max)``` or ```xlim=min``` Sets the x-axis range\n",
    "- ```ylim=(min, max)``` or ```ylim=min``` Sets the y-axis range"
   ]
  },
  {
   "cell_type": "code",
   "execution_count": 54,
   "id": "ef798583",
   "metadata": {},
   "outputs": [
    {
     "data": {
      "text/plain": [
       "<AxesSubplot:title={'center':'CO2 per capita in USA'}, xlabel='Year', ylabel='CO2 per capita'>"
      ]
     },
     "execution_count": 54,
     "metadata": {},
     "output_type": "execute_result"
    },
    {
     "data": {
      "image/png": "[encoded data removed]",
      "text/plain": [
       "<Figure size 432x288 with 1 Axes>"
      ]
     },
     "metadata": {
      "needs_background": "light"
     },
     "output_type": "display_data"
    }
   ],
   "source": [
    "data['USA'].plot(title='CO2 per capita in USA',ylabel='CO2 per capita',ylim=0)"
   ]
  },
  {
   "cell_type": "code",
   "execution_count": null,
   "id": "fa5357eb",
   "metadata": {},
   "outputs": [],
   "source": []
  },
  {
   "cell_type": "markdown",
   "id": "5c317580",
   "metadata": {},
   "source": [
    "### Comparing data\n",
    "- Explore **USA** and **WLD**"
   ]
  },
  {
   "cell_type": "code",
   "execution_count": 60,
   "id": "40667198",
   "metadata": {},
   "outputs": [
    {
     "data": {
      "text/plain": [
       "<AxesSubplot:xlabel='Year'>"
      ]
     },
     "execution_count": 60,
     "metadata": {},
     "output_type": "execute_result"
    },
    {
     "data": {
      "image/png": "[encoded data removed]",
      "text/plain": [
       "<Figure size 432x288 with 1 Axes>"
      ]
     },
     "metadata": {
      "needs_background": "light"
     },
     "output_type": "display_data"
    }
   ],
   "source": [
    "data[['USA','WLD']].plot()"
   ]
  },
  {
   "cell_type": "code",
   "execution_count": 59,
   "id": "125d0b9c",
   "metadata": {},
   "outputs": [
    {
     "data": {
      "text/plain": [
       "<AxesSubplot:xlabel='Year'>"
      ]
     },
     "execution_count": 59,
     "metadata": {},
     "output_type": "execute_result"
    },
    {
     "data": {
      "image/png": "[encoded data removed]",
      "text/plain": [
       "<Figure size 432x288 with 1 Axes>"
      ]
     },
     "metadata": {
      "needs_background": "light"
     },
     "output_type": "display_data"
    }
   ],
   "source": [
    "data[['USA','WLD']].plot(ylim=0)"
   ]
  },
  {
   "cell_type": "markdown",
   "id": "07642699",
   "metadata": {},
   "source": [
    "#### Set the figure size\n",
    "- ```figsize=(width, height)``` in inches"
   ]
  },
  {
   "cell_type": "code",
   "execution_count": 61,
   "id": "9b11af59",
   "metadata": {},
   "outputs": [
    {
     "data": {
      "text/plain": [
       "<AxesSubplot:xlabel='Year'>"
      ]
     },
     "execution_count": 61,
     "metadata": {},
     "output_type": "execute_result"
    },
    {
     "data": {
      "image/png": "[encoded data removed]",
      "text/plain": [
       "<Figure size 1440x432 with 1 Axes>"
      ]
     },
     "metadata": {
      "needs_background": "light"
     },
     "output_type": "display_data"
    }
   ],
   "source": [
    "data[['USA','WLD']].plot(ylim=0,figsize=(20,6))"
   ]
  },
  {
   "cell_type": "code",
   "execution_count": 62,
   "id": "cf32a975",
   "metadata": {},
   "outputs": [
    {
     "data": {
      "text/plain": [
       "<AxesSubplot:xlabel='Year'>"
      ]
     },
     "execution_count": 62,
     "metadata": {},
     "output_type": "execute_result"
    },
    {
     "data": {
      "image/png": "[encoded data removed]",
      "text/plain": [
       "<Figure size 1440x432 with 1 Axes>"
      ]
     },
     "metadata": {
      "needs_background": "light"
     },
     "output_type": "display_data"
    }
   ],
   "source": [
    "data[['USA','DNK','WLD']].plot(ylim=0,figsize=(20,6))"
   ]
  },
  {
   "cell_type": "markdown",
   "id": "447a4bcf",
   "metadata": {},
   "source": [
    "### Bar plot\n",
    "- ```.plot.bar()``` Create a bar plot"
   ]
  },
  {
   "cell_type": "code",
   "execution_count": 63,
   "id": "a75537e0",
   "metadata": {},
   "outputs": [
    {
     "data": {
      "text/plain": [
       "<AxesSubplot:xlabel='Year'>"
      ]
     },
     "execution_count": 63,
     "metadata": {},
     "output_type": "execute_result"
    },
    {
     "data": {
      "image/png": "[encoded data removed]",
      "text/plain": [
       "<Figure size 1440x432 with 1 Axes>"
      ]
     },
     "metadata": {
      "needs_background": "light"
     },
     "output_type": "display_data"
    }
   ],
   "source": [
    "data['USA'].plot.bar(figsize=(20,6))"
   ]
  },
  {
   "cell_type": "code",
   "execution_count": 64,
   "id": "8d949410",
   "metadata": {},
   "outputs": [
    {
     "data": {
      "text/plain": [
       "<AxesSubplot:xlabel='Year'>"
      ]
     },
     "execution_count": 64,
     "metadata": {},
     "output_type": "execute_result"
    },
    {
     "data": {
      "image/png": "[encoded data removed]",
      "text/plain": [
       "<Figure size 1440x432 with 1 Axes>"
      ]
     },
     "metadata": {
      "needs_background": "light"
     },
     "output_type": "display_data"
    }
   ],
   "source": [
    "data[['USA','WLD']].plot.bar(figsize=(20,6))"
   ]
  },
  {
   "cell_type": "markdown",
   "id": "e29639c4",
   "metadata": {},
   "source": [
    "### Plot a range of data\n",
    "- ```.loc[from:to]``` apply this on the DataFrame to get a range (both inclusive)"
   ]
  },
  {
   "cell_type": "code",
   "execution_count": 68,
   "id": "5eefb6df",
   "metadata": {},
   "outputs": [
    {
     "data": {
      "text/plain": [
       "<AxesSubplot:xlabel='Year'>"
      ]
     },
     "execution_count": 68,
     "metadata": {},
     "output_type": "execute_result"
    },
    {
     "data": {
      "image/png": "[encoded data removed]",
      "text/plain": [
       "<Figure size 1440x432 with 1 Axes>"
      ]
     },
     "metadata": {
      "needs_background": "light"
     },
     "output_type": "display_data"
    }
   ],
   "source": [
    "data[['USA','WLD']].loc[2000:].plot.bar(figsize=(20,6))"
   ]
  },
  {
   "cell_type": "markdown",
   "id": "d5739df8",
   "metadata": {},
   "source": [
    "### Histogram\n",
    "- ```.plot.hist()``` Create a histogram\n",
    "- ```bins=<number of bins>``` Specify the number of bins in the histogram."
   ]
  },
  {
   "cell_type": "code",
   "execution_count": 69,
   "id": "3e277186",
   "metadata": {},
   "outputs": [
    {
     "data": {
      "text/plain": [
       "<AxesSubplot:ylabel='Frequency'>"
      ]
     },
     "execution_count": 69,
     "metadata": {},
     "output_type": "execute_result"
    },
    {
     "data": {
      "image/png": "[encoded data removed]",
      "text/plain": [
       "<Figure size 1440x432 with 1 Axes>"
      ]
     },
     "metadata": {
      "needs_background": "light"
     },
     "output_type": "display_data"
    }
   ],
   "source": [
    "data['USA'].plot.hist(figsize=(20,6))"
   ]
  },
  {
   "cell_type": "code",
   "execution_count": 71,
   "id": "807e74ae",
   "metadata": {},
   "outputs": [
    {
     "data": {
      "text/plain": [
       "<AxesSubplot:ylabel='Frequency'>"
      ]
     },
     "execution_count": 71,
     "metadata": {},
     "output_type": "execute_result"
    },
    {
     "data": {
      "image/png": "[encoded data removed]",
      "text/plain": [
       "<Figure size 1440x432 with 1 Axes>"
      ]
     },
     "metadata": {
      "needs_background": "light"
     },
     "output_type": "display_data"
    }
   ],
   "source": [
    "data['USA'].plot.hist(figsize=(20,6),bins=7)"
   ]
  },
  {
   "cell_type": "markdown",
   "id": "565e931d",
   "metadata": {},
   "source": [
    "### Pie chart\n",
    "- ```.plot.pie()``` Creates a Pie Chart"
   ]
  },
  {
   "cell_type": "code",
   "execution_count": 75,
   "id": "ea32f93b",
   "metadata": {},
   "outputs": [],
   "source": [
    "df=pd.Series(data=[3,5,7],index=['Data1','Data2','Data3'])"
   ]
  },
  {
   "cell_type": "code",
   "execution_count": 76,
   "id": "5c2d55af",
   "metadata": {},
   "outputs": [
    {
     "data": {
      "text/plain": [
       "<AxesSubplot:ylabel='None'>"
      ]
     },
     "execution_count": 76,
     "metadata": {},
     "output_type": "execute_result"
    },
    {
     "data": {
      "image/png": "[encoded data removed]",
      "text/plain": [
       "<Figure size 432x288 with 1 Axes>"
      ]
     },
     "metadata": {},
     "output_type": "display_data"
    }
   ],
   "source": [
    "df.plot.pie()"
   ]
  },
  {
   "cell_type": "markdown",
   "id": "0122ddf5",
   "metadata": {},
   "source": [
    "### Value counts and pie charts\n",
    "- A simple chart of values above/below a threshold\n",
    "- ```.value_counts()``` Counts occurences of values in a Series (or DataFrame column)\n",
    "- A few arguments to ```.plot.pie()```\n",
    "    - ```colors=<list of colors>```\n",
    "    - ```labels=<list of labels>```\n",
    "    - ```title='<title>'```\n",
    "    - ```ylabel='<label>'```\n",
    "    - ```autopct='%1.1f%%'``` sets percentages on chart"
   ]
  },
  {
   "cell_type": "code",
   "execution_count": 77,
   "id": "9ef77085",
   "metadata": {},
   "outputs": [
    {
     "data": {
      "text/plain": [
       "<AxesSubplot:title={'center':'CO2 per capita'}, ylabel='USA'>"
      ]
     },
     "execution_count": 77,
     "metadata": {},
     "output_type": "execute_result"
    },
    {
     "data": {
      "image/png": "[encoded data removed]",
      "text/plain": [
       "<Figure size 432x288 with 1 Axes>"
      ]
     },
     "metadata": {},
     "output_type": "display_data"
    }
   ],
   "source": [
    "(data['USA'] < 17.5).value_counts().plot.pie(colors=['r', 'g'], labels=['>=17.5', '<17.5'], title='CO2 per capita', autopct='%1.1f%%')\n",
    "\n",
    "\n"
   ]
  },
  {
   "cell_type": "code",
   "execution_count": null,
   "id": "8eb75cdb",
   "metadata": {},
   "outputs": [],
   "source": []
  },
  {
   "cell_type": "markdown",
   "id": "8a088d51",
   "metadata": {},
   "source": [
    "### Scatter plot\n",
    "- Assume we want to investigate if GDP per capita and CO2 per capita are correlated\n",
    "    - Data available in *'files/co2_gdp_per_capita.csv'*\n",
    "- ```.plot.scatter(x=<label>, y=<label>)``` Create a scatter plot\n",
    "- ```.corr()``` Compute pairwise correlation of columns ([docs](https://pandas.pydata.org/docs/reference/api/pandas.DataFrame.corr.html))"
   ]
  },
  {
   "cell_type": "code",
   "execution_count": 78,
   "id": "32b2559f",
   "metadata": {},
   "outputs": [],
   "source": [
    "data=pd.read_csv('files/co2_gdp_per_capita.csv')"
   ]
  },
  {
   "cell_type": "code",
   "execution_count": 80,
   "id": "0628088d",
   "metadata": {},
   "outputs": [
    {
     "data": {
      "text/html": [
       "<div>\n",
       "<style scoped>\n",
       "    .dataframe tbody tr th:only-of-type {\n",
       "        vertical-align: middle;\n",
       "    }\n",
       "\n",
       "    .dataframe tbody tr th {\n",
       "        vertical-align: top;\n",
       "    }\n",
       "\n",
       "    .dataframe thead th {\n",
       "        text-align: right;\n",
       "    }\n",
       "</style>\n",
       "<table border=\"1\" class=\"dataframe\">\n",
       "  <thead>\n",
       "    <tr style=\"text-align: right;\">\n",
       "      <th></th>\n",
       "      <th>Unnamed: 0</th>\n",
       "      <th>CO2 per capita</th>\n",
       "      <th>GDP per capita</th>\n",
       "    </tr>\n",
       "  </thead>\n",
       "  <tbody>\n",
       "    <tr>\n",
       "      <th>0</th>\n",
       "      <td>AFE</td>\n",
       "      <td>0.933541</td>\n",
       "      <td>1507.861055</td>\n",
       "    </tr>\n",
       "    <tr>\n",
       "      <th>1</th>\n",
       "      <td>AFG</td>\n",
       "      <td>0.200151</td>\n",
       "      <td>568.827927</td>\n",
       "    </tr>\n",
       "    <tr>\n",
       "      <th>2</th>\n",
       "      <td>AFW</td>\n",
       "      <td>0.515544</td>\n",
       "      <td>1834.366604</td>\n",
       "    </tr>\n",
       "    <tr>\n",
       "      <th>3</th>\n",
       "      <td>AGO</td>\n",
       "      <td>0.887380</td>\n",
       "      <td>3595.106667</td>\n",
       "    </tr>\n",
       "    <tr>\n",
       "      <th>4</th>\n",
       "      <td>ALB</td>\n",
       "      <td>1.939732</td>\n",
       "      <td>4433.741739</td>\n",
       "    </tr>\n",
       "  </tbody>\n",
       "</table>\n",
       "</div>"
      ],
      "text/plain": [
       "  Unnamed: 0  CO2 per capita  GDP per capita\n",
       "0        AFE        0.933541     1507.861055\n",
       "1        AFG        0.200151      568.827927\n",
       "2        AFW        0.515544     1834.366604\n",
       "3        AGO        0.887380     3595.106667\n",
       "4        ALB        1.939732     4433.741739"
      ]
     },
     "execution_count": 80,
     "metadata": {},
     "output_type": "execute_result"
    }
   ],
   "source": [
    "data.head()"
   ]
  },
  {
   "cell_type": "code",
   "execution_count": 81,
   "id": "0387ce05",
   "metadata": {},
   "outputs": [
    {
     "data": {
      "text/plain": [
       "<AxesSubplot:xlabel='CO2 per capita', ylabel='GDP per capita'>"
      ]
     },
     "execution_count": 81,
     "metadata": {},
     "output_type": "execute_result"
    },
    {
     "data": {
      "image/png": "[encoded data removed]",
      "text/plain": [
       "<Figure size 432x288 with 1 Axes>"
      ]
     },
     "metadata": {
      "needs_background": "light"
     },
     "output_type": "display_data"
    }
   ],
   "source": [
    "data.plot.scatter(x='CO2 per capita', y='GDP per capita')"
   ]
  },
  {
   "cell_type": "code",
   "execution_count": 82,
   "id": "05119538",
   "metadata": {},
   "outputs": [
    {
     "data": {
      "text/html": [
       "<div>\n",
       "<style scoped>\n",
       "    .dataframe tbody tr th:only-of-type {\n",
       "        vertical-align: middle;\n",
       "    }\n",
       "\n",
       "    .dataframe tbody tr th {\n",
       "        vertical-align: top;\n",
       "    }\n",
       "\n",
       "    .dataframe thead th {\n",
       "        text-align: right;\n",
       "    }\n",
       "</style>\n",
       "<table border=\"1\" class=\"dataframe\">\n",
       "  <thead>\n",
       "    <tr style=\"text-align: right;\">\n",
       "      <th></th>\n",
       "      <th>CO2 per capita</th>\n",
       "      <th>GDP per capita</th>\n",
       "    </tr>\n",
       "  </thead>\n",
       "  <tbody>\n",
       "    <tr>\n",
       "      <th>CO2 per capita</th>\n",
       "      <td>1.000000</td>\n",
       "      <td>0.633178</td>\n",
       "    </tr>\n",
       "    <tr>\n",
       "      <th>GDP per capita</th>\n",
       "      <td>0.633178</td>\n",
       "      <td>1.000000</td>\n",
       "    </tr>\n",
       "  </tbody>\n",
       "</table>\n",
       "</div>"
      ],
      "text/plain": [
       "                CO2 per capita  GDP per capita\n",
       "CO2 per capita        1.000000        0.633178\n",
       "GDP per capita        0.633178        1.000000"
      ]
     },
     "execution_count": 82,
     "metadata": {},
     "output_type": "execute_result"
    }
   ],
   "source": [
    "data.corr()"
   ]
  },
  {
   "cell_type": "markdown",
   "id": "452c404a",
   "metadata": {},
   "source": [
    "este resultado muestra que la correlacion es 0.6 que indica que no es muy fuerte. Para ver correlacion alta esperariamos valores superiores a 0.8"
   ]
  },
  {
   "cell_type": "markdown",
   "id": "c58d75f4",
   "metadata": {},
   "source": [
    "## Data Presentation\n",
    "- This is about making data esay to digest"
   ]
  },
  {
   "cell_type": "markdown",
   "id": "ea0387b3",
   "metadata": {},
   "source": [
    "### The message\n",
    "Assume we want to give a picture of how US CO2 per capita is compared to the rest of the world"
   ]
  },
  {
   "cell_type": "markdown",
   "id": "86cac32b",
   "metadata": {},
   "source": [
    "#### Preparation\n",
    "- Let's take 2017 (as more recent data is incomplete)\n",
    "- What is the mean, max, and min CO2 per capital in the world"
   ]
  },
  {
   "cell_type": "code",
   "execution_count": 89,
   "id": "677ca266",
   "metadata": {},
   "outputs": [],
   "source": [
    "data = pd.read_csv('files/WorldBank-ATM.CO2E.PC_DS2.csv', index_col=0)"
   ]
  },
  {
   "cell_type": "code",
   "execution_count": 85,
   "id": "9c1c71e4",
   "metadata": {},
   "outputs": [
    {
     "data": {
      "text/html": [
       "<div>\n",
       "<style scoped>\n",
       "    .dataframe tbody tr th:only-of-type {\n",
       "        vertical-align: middle;\n",
       "    }\n",
       "\n",
       "    .dataframe tbody tr th {\n",
       "        vertical-align: top;\n",
       "    }\n",
       "\n",
       "    .dataframe thead th {\n",
       "        text-align: right;\n",
       "    }\n",
       "</style>\n",
       "<table border=\"1\" class=\"dataframe\">\n",
       "  <thead>\n",
       "    <tr style=\"text-align: right;\">\n",
       "      <th></th>\n",
       "      <th>ABW</th>\n",
       "      <th>AFE</th>\n",
       "      <th>AFG</th>\n",
       "      <th>AFW</th>\n",
       "      <th>AGO</th>\n",
       "      <th>ALB</th>\n",
       "      <th>AND</th>\n",
       "      <th>ARB</th>\n",
       "      <th>ARE</th>\n",
       "      <th>ARG</th>\n",
       "      <th>...</th>\n",
       "      <th>VIR</th>\n",
       "      <th>VNM</th>\n",
       "      <th>VUT</th>\n",
       "      <th>WLD</th>\n",
       "      <th>WSM</th>\n",
       "      <th>XKX</th>\n",
       "      <th>YEM</th>\n",
       "      <th>ZAF</th>\n",
       "      <th>ZMB</th>\n",
       "      <th>ZWE</th>\n",
       "    </tr>\n",
       "    <tr>\n",
       "      <th>Year</th>\n",
       "      <th></th>\n",
       "      <th></th>\n",
       "      <th></th>\n",
       "      <th></th>\n",
       "      <th></th>\n",
       "      <th></th>\n",
       "      <th></th>\n",
       "      <th></th>\n",
       "      <th></th>\n",
       "      <th></th>\n",
       "      <th></th>\n",
       "      <th></th>\n",
       "      <th></th>\n",
       "      <th></th>\n",
       "      <th></th>\n",
       "      <th></th>\n",
       "      <th></th>\n",
       "      <th></th>\n",
       "      <th></th>\n",
       "      <th></th>\n",
       "      <th></th>\n",
       "    </tr>\n",
       "  </thead>\n",
       "  <tbody>\n",
       "    <tr>\n",
       "      <th>1960</th>\n",
       "      <td>204.631696</td>\n",
       "      <td>0.906060</td>\n",
       "      <td>0.046057</td>\n",
       "      <td>0.090880</td>\n",
       "      <td>0.100835</td>\n",
       "      <td>1.258195</td>\n",
       "      <td>NaN</td>\n",
       "      <td>0.609268</td>\n",
       "      <td>0.119037</td>\n",
       "      <td>2.383343</td>\n",
       "      <td>...</td>\n",
       "      <td>NaN</td>\n",
       "      <td>0.181947</td>\n",
       "      <td>NaN</td>\n",
       "      <td>3.121158</td>\n",
       "      <td>0.135031</td>\n",
       "      <td>NaN</td>\n",
       "      <td>0.011038</td>\n",
       "      <td>5.727223</td>\n",
       "      <td>NaN</td>\n",
       "      <td>NaN</td>\n",
       "    </tr>\n",
       "    <tr>\n",
       "      <th>1961</th>\n",
       "      <td>208.837879</td>\n",
       "      <td>0.922474</td>\n",
       "      <td>0.053589</td>\n",
       "      <td>0.095283</td>\n",
       "      <td>0.082204</td>\n",
       "      <td>1.374186</td>\n",
       "      <td>NaN</td>\n",
       "      <td>0.662618</td>\n",
       "      <td>0.109136</td>\n",
       "      <td>2.458551</td>\n",
       "      <td>...</td>\n",
       "      <td>NaN</td>\n",
       "      <td>0.183099</td>\n",
       "      <td>NaN</td>\n",
       "      <td>3.068090</td>\n",
       "      <td>0.163542</td>\n",
       "      <td>NaN</td>\n",
       "      <td>0.013599</td>\n",
       "      <td>5.832621</td>\n",
       "      <td>NaN</td>\n",
       "      <td>NaN</td>\n",
       "    </tr>\n",
       "    <tr>\n",
       "      <th>1962</th>\n",
       "      <td>226.081890</td>\n",
       "      <td>0.930816</td>\n",
       "      <td>0.073721</td>\n",
       "      <td>0.096612</td>\n",
       "      <td>0.210533</td>\n",
       "      <td>1.439956</td>\n",
       "      <td>NaN</td>\n",
       "      <td>0.727117</td>\n",
       "      <td>0.163542</td>\n",
       "      <td>2.538447</td>\n",
       "      <td>...</td>\n",
       "      <td>NaN</td>\n",
       "      <td>0.217694</td>\n",
       "      <td>0.595002</td>\n",
       "      <td>3.114839</td>\n",
       "      <td>0.158377</td>\n",
       "      <td>NaN</td>\n",
       "      <td>0.012729</td>\n",
       "      <td>5.887168</td>\n",
       "      <td>NaN</td>\n",
       "      <td>NaN</td>\n",
       "    </tr>\n",
       "    <tr>\n",
       "      <th>1963</th>\n",
       "      <td>214.785217</td>\n",
       "      <td>0.940570</td>\n",
       "      <td>0.074161</td>\n",
       "      <td>0.112376</td>\n",
       "      <td>0.202739</td>\n",
       "      <td>1.181681</td>\n",
       "      <td>NaN</td>\n",
       "      <td>0.853116</td>\n",
       "      <td>0.175833</td>\n",
       "      <td>2.330685</td>\n",
       "      <td>...</td>\n",
       "      <td>NaN</td>\n",
       "      <td>0.196997</td>\n",
       "      <td>0.471849</td>\n",
       "      <td>3.221195</td>\n",
       "      <td>0.184037</td>\n",
       "      <td>NaN</td>\n",
       "      <td>0.014518</td>\n",
       "      <td>5.961337</td>\n",
       "      <td>NaN</td>\n",
       "      <td>NaN</td>\n",
       "    </tr>\n",
       "    <tr>\n",
       "      <th>1964</th>\n",
       "      <td>207.626699</td>\n",
       "      <td>0.996033</td>\n",
       "      <td>0.086174</td>\n",
       "      <td>0.133258</td>\n",
       "      <td>0.213562</td>\n",
       "      <td>1.111742</td>\n",
       "      <td>NaN</td>\n",
       "      <td>0.972381</td>\n",
       "      <td>0.132815</td>\n",
       "      <td>2.553442</td>\n",
       "      <td>...</td>\n",
       "      <td>NaN</td>\n",
       "      <td>0.209870</td>\n",
       "      <td>0.864427</td>\n",
       "      <td>3.324046</td>\n",
       "      <td>0.208106</td>\n",
       "      <td>NaN</td>\n",
       "      <td>0.017550</td>\n",
       "      <td>6.332343</td>\n",
       "      <td>0.946606</td>\n",
       "      <td>1.034904</td>\n",
       "    </tr>\n",
       "  </tbody>\n",
       "</table>\n",
       "<p>5 rows × 266 columns</p>\n",
       "</div>"
      ],
      "text/plain": [
       "             ABW       AFE       AFG       AFW       AGO       ALB  AND  \\\n",
       "Year                                                                      \n",
       "1960  204.631696  0.906060  0.046057  0.090880  0.100835  1.258195  NaN   \n",
       "1961  208.837879  0.922474  0.053589  0.095283  0.082204  1.374186  NaN   \n",
       "1962  226.081890  0.930816  0.073721  0.096612  0.210533  1.439956  NaN   \n",
       "1963  214.785217  0.940570  0.074161  0.112376  0.202739  1.181681  NaN   \n",
       "1964  207.626699  0.996033  0.086174  0.133258  0.213562  1.111742  NaN   \n",
       "\n",
       "           ARB       ARE       ARG  ...  VIR       VNM       VUT       WLD  \\\n",
       "Year                                ...                                      \n",
       "1960  0.609268  0.119037  2.383343  ...  NaN  0.181947       NaN  3.121158   \n",
       "1961  0.662618  0.109136  2.458551  ...  NaN  0.183099       NaN  3.068090   \n",
       "1962  0.727117  0.163542  2.538447  ...  NaN  0.217694  0.595002  3.114839   \n",
       "1963  0.853116  0.175833  2.330685  ...  NaN  0.196997  0.471849  3.221195   \n",
       "1964  0.972381  0.132815  2.553442  ...  NaN  0.209870  0.864427  3.324046   \n",
       "\n",
       "           WSM  XKX       YEM       ZAF       ZMB       ZWE  \n",
       "Year                                                         \n",
       "1960  0.135031  NaN  0.011038  5.727223       NaN       NaN  \n",
       "1961  0.163542  NaN  0.013599  5.832621       NaN       NaN  \n",
       "1962  0.158377  NaN  0.012729  5.887168       NaN       NaN  \n",
       "1963  0.184037  NaN  0.014518  5.961337       NaN       NaN  \n",
       "1964  0.208106  NaN  0.017550  6.332343  0.946606  1.034904  \n",
       "\n",
       "[5 rows x 266 columns]"
      ]
     },
     "execution_count": 85,
     "metadata": {},
     "output_type": "execute_result"
    }
   ],
   "source": [
    "data.head()"
   ]
  },
  {
   "cell_type": "code",
   "execution_count": 88,
   "id": "e44967ed",
   "metadata": {},
   "outputs": [
    {
     "data": {
      "text/html": [
       "<div>\n",
       "<style scoped>\n",
       "    .dataframe tbody tr th:only-of-type {\n",
       "        vertical-align: middle;\n",
       "    }\n",
       "\n",
       "    .dataframe tbody tr th {\n",
       "        vertical-align: top;\n",
       "    }\n",
       "\n",
       "    .dataframe thead th {\n",
       "        text-align: right;\n",
       "    }\n",
       "</style>\n",
       "<table border=\"1\" class=\"dataframe\">\n",
       "  <thead>\n",
       "    <tr style=\"text-align: right;\">\n",
       "      <th></th>\n",
       "      <th>ABW</th>\n",
       "      <th>AFE</th>\n",
       "      <th>AFG</th>\n",
       "      <th>AFW</th>\n",
       "      <th>AGO</th>\n",
       "      <th>ALB</th>\n",
       "      <th>AND</th>\n",
       "      <th>ARB</th>\n",
       "      <th>ARE</th>\n",
       "      <th>ARG</th>\n",
       "      <th>...</th>\n",
       "      <th>VIR</th>\n",
       "      <th>VNM</th>\n",
       "      <th>VUT</th>\n",
       "      <th>WLD</th>\n",
       "      <th>WSM</th>\n",
       "      <th>XKX</th>\n",
       "      <th>YEM</th>\n",
       "      <th>ZAF</th>\n",
       "      <th>ZMB</th>\n",
       "      <th>ZWE</th>\n",
       "    </tr>\n",
       "  </thead>\n",
       "  <tbody>\n",
       "    <tr>\n",
       "      <th>count</th>\n",
       "      <td>30.000000</td>\n",
       "      <td>59.000000</td>\n",
       "      <td>59.000000</td>\n",
       "      <td>59.000000</td>\n",
       "      <td>59.000000</td>\n",
       "      <td>59.000000</td>\n",
       "      <td>29.000000</td>\n",
       "      <td>59.000000</td>\n",
       "      <td>59.000000</td>\n",
       "      <td>59.000000</td>\n",
       "      <td>...</td>\n",
       "      <td>0.0</td>\n",
       "      <td>59.000000</td>\n",
       "      <td>57.000000</td>\n",
       "      <td>59.000000</td>\n",
       "      <td>59.000000</td>\n",
       "      <td>0.0</td>\n",
       "      <td>59.000000</td>\n",
       "      <td>59.000000</td>\n",
       "      <td>55.000000</td>\n",
       "      <td>55.000000</td>\n",
       "    </tr>\n",
       "    <tr>\n",
       "      <th>mean</th>\n",
       "      <td>184.079829</td>\n",
       "      <td>1.089405</td>\n",
       "      <td>0.149382</td>\n",
       "      <td>0.440692</td>\n",
       "      <td>0.687540</td>\n",
       "      <td>1.660433</td>\n",
       "      <td>6.778152</td>\n",
       "      <td>2.923164</td>\n",
       "      <td>30.416576</td>\n",
       "      <td>3.544621</td>\n",
       "      <td>...</td>\n",
       "      <td>NaN</td>\n",
       "      <td>0.716099</td>\n",
       "      <td>0.530864</td>\n",
       "      <td>4.109284</td>\n",
       "      <td>0.693014</td>\n",
       "      <td>NaN</td>\n",
       "      <td>0.442130</td>\n",
       "      <td>7.497467</td>\n",
       "      <td>0.479936</td>\n",
       "      <td>1.201970</td>\n",
       "    </tr>\n",
       "    <tr>\n",
       "      <th>std</th>\n",
       "      <td>84.724762</td>\n",
       "      <td>0.157525</td>\n",
       "      <td>0.085583</td>\n",
       "      <td>0.147548</td>\n",
       "      <td>0.329161</td>\n",
       "      <td>0.643504</td>\n",
       "      <td>0.688945</td>\n",
       "      <td>1.089531</td>\n",
       "      <td>20.916706</td>\n",
       "      <td>0.512579</td>\n",
       "      <td>...</td>\n",
       "      <td>NaN</td>\n",
       "      <td>0.652798</td>\n",
       "      <td>0.154410</td>\n",
       "      <td>0.440680</td>\n",
       "      <td>0.371951</td>\n",
       "      <td>NaN</td>\n",
       "      <td>0.369435</td>\n",
       "      <td>1.136301</td>\n",
       "      <td>0.313848</td>\n",
       "      <td>0.302564</td>\n",
       "    </tr>\n",
       "    <tr>\n",
       "      <th>min</th>\n",
       "      <td>2.868274</td>\n",
       "      <td>0.900399</td>\n",
       "      <td>0.037055</td>\n",
       "      <td>0.090880</td>\n",
       "      <td>0.082204</td>\n",
       "      <td>0.470098</td>\n",
       "      <td>5.807128</td>\n",
       "      <td>0.609268</td>\n",
       "      <td>0.109136</td>\n",
       "      <td>2.330685</td>\n",
       "      <td>...</td>\n",
       "      <td>NaN</td>\n",
       "      <td>0.181947</td>\n",
       "      <td>0.326525</td>\n",
       "      <td>3.068090</td>\n",
       "      <td>0.135031</td>\n",
       "      <td>NaN</td>\n",
       "      <td>0.011038</td>\n",
       "      <td>5.727223</td>\n",
       "      <td>0.158363</td>\n",
       "      <td>0.613916</td>\n",
       "    </tr>\n",
       "    <tr>\n",
       "      <th>25%</th>\n",
       "      <td>169.081608</td>\n",
       "      <td>0.971170</td>\n",
       "      <td>0.073941</td>\n",
       "      <td>0.443857</td>\n",
       "      <td>0.476051</td>\n",
       "      <td>1.258155</td>\n",
       "      <td>6.104134</td>\n",
       "      <td>2.340655</td>\n",
       "      <td>20.406460</td>\n",
       "      <td>3.278312</td>\n",
       "      <td>...</td>\n",
       "      <td>NaN</td>\n",
       "      <td>0.287286</td>\n",
       "      <td>0.436545</td>\n",
       "      <td>3.805353</td>\n",
       "      <td>0.282534</td>\n",
       "      <td>NaN</td>\n",
       "      <td>0.072521</td>\n",
       "      <td>6.577222</td>\n",
       "      <td>0.219073</td>\n",
       "      <td>0.910479</td>\n",
       "    </tr>\n",
       "    <tr>\n",
       "      <th>50%</th>\n",
       "      <td>199.774616</td>\n",
       "      <td>1.033908</td>\n",
       "      <td>0.149651</td>\n",
       "      <td>0.476438</td>\n",
       "      <td>0.640966</td>\n",
       "      <td>1.572251</td>\n",
       "      <td>6.733479</td>\n",
       "      <td>3.091803</td>\n",
       "      <td>28.994996</td>\n",
       "      <td>3.642232</td>\n",
       "      <td>...</td>\n",
       "      <td>NaN</td>\n",
       "      <td>0.404750</td>\n",
       "      <td>0.486581</td>\n",
       "      <td>4.281006</td>\n",
       "      <td>0.711368</td>\n",
       "      <td>NaN</td>\n",
       "      <td>0.326682</td>\n",
       "      <td>7.446834</td>\n",
       "      <td>0.349232</td>\n",
       "      <td>1.229248</td>\n",
       "    </tr>\n",
       "    <tr>\n",
       "      <th>75%</th>\n",
       "      <td>232.217652</td>\n",
       "      <td>1.188124</td>\n",
       "      <td>0.207444</td>\n",
       "      <td>0.515941</td>\n",
       "      <td>0.912209</td>\n",
       "      <td>2.001541</td>\n",
       "      <td>7.344262</td>\n",
       "      <td>3.417984</td>\n",
       "      <td>33.133602</td>\n",
       "      <td>3.862388</td>\n",
       "      <td>...</td>\n",
       "      <td>NaN</td>\n",
       "      <td>0.936470</td>\n",
       "      <td>0.586726</td>\n",
       "      <td>4.472535</td>\n",
       "      <td>0.929421</td>\n",
       "      <td>NaN</td>\n",
       "      <td>0.788088</td>\n",
       "      <td>8.055625</td>\n",
       "      <td>0.672690</td>\n",
       "      <td>1.422052</td>\n",
       "    </tr>\n",
       "    <tr>\n",
       "      <th>max</th>\n",
       "      <td>360.853233</td>\n",
       "      <td>1.431964</td>\n",
       "      <td>0.407074</td>\n",
       "      <td>0.648273</td>\n",
       "      <td>1.285365</td>\n",
       "      <td>2.898209</td>\n",
       "      <td>7.952286</td>\n",
       "      <td>4.617964</td>\n",
       "      <td>101.053155</td>\n",
       "      <td>4.359886</td>\n",
       "      <td>...</td>\n",
       "      <td>NaN</td>\n",
       "      <td>2.698806</td>\n",
       "      <td>1.074339</td>\n",
       "      <td>4.696086</td>\n",
       "      <td>1.631588</td>\n",
       "      <td>NaN</td>\n",
       "      <td>1.139166</td>\n",
       "      <td>9.922518</td>\n",
       "      <td>1.261960</td>\n",
       "      <td>1.713321</td>\n",
       "    </tr>\n",
       "  </tbody>\n",
       "</table>\n",
       "<p>8 rows × 266 columns</p>\n",
       "</div>"
      ],
      "text/plain": [
       "              ABW        AFE        AFG        AFW        AGO        ALB  \\\n",
       "count   30.000000  59.000000  59.000000  59.000000  59.000000  59.000000   \n",
       "mean   184.079829   1.089405   0.149382   0.440692   0.687540   1.660433   \n",
       "std     84.724762   0.157525   0.085583   0.147548   0.329161   0.643504   \n",
       "min      2.868274   0.900399   0.037055   0.090880   0.082204   0.470098   \n",
       "25%    169.081608   0.971170   0.073941   0.443857   0.476051   1.258155   \n",
       "50%    199.774616   1.033908   0.149651   0.476438   0.640966   1.572251   \n",
       "75%    232.217652   1.188124   0.207444   0.515941   0.912209   2.001541   \n",
       "max    360.853233   1.431964   0.407074   0.648273   1.285365   2.898209   \n",
       "\n",
       "             AND        ARB         ARE        ARG  ...  VIR        VNM  \\\n",
       "count  29.000000  59.000000   59.000000  59.000000  ...  0.0  59.000000   \n",
       "mean    6.778152   2.923164   30.416576   3.544621  ...  NaN   0.716099   \n",
       "std     0.688945   1.089531   20.916706   0.512579  ...  NaN   0.652798   \n",
       "min     5.807128   0.609268    0.109136   2.330685  ...  NaN   0.181947   \n",
       "25%     6.104134   2.340655   20.406460   3.278312  ...  NaN   0.287286   \n",
       "50%     6.733479   3.091803   28.994996   3.642232  ...  NaN   0.404750   \n",
       "75%     7.344262   3.417984   33.133602   3.862388  ...  NaN   0.936470   \n",
       "max     7.952286   4.617964  101.053155   4.359886  ...  NaN   2.698806   \n",
       "\n",
       "             VUT        WLD        WSM  XKX        YEM        ZAF        ZMB  \\\n",
       "count  57.000000  59.000000  59.000000  0.0  59.000000  59.000000  55.000000   \n",
       "mean    0.530864   4.109284   0.693014  NaN   0.442130   7.497467   0.479936   \n",
       "std     0.154410   0.440680   0.371951  NaN   0.369435   1.136301   0.313848   \n",
       "min     0.326525   3.068090   0.135031  NaN   0.011038   5.727223   0.158363   \n",
       "25%     0.436545   3.805353   0.282534  NaN   0.072521   6.577222   0.219073   \n",
       "50%     0.486581   4.281006   0.711368  NaN   0.326682   7.446834   0.349232   \n",
       "75%     0.586726   4.472535   0.929421  NaN   0.788088   8.055625   0.672690   \n",
       "max     1.074339   4.696086   1.631588  NaN   1.139166   9.922518   1.261960   \n",
       "\n",
       "             ZWE  \n",
       "count  55.000000  \n",
       "mean    1.201970  \n",
       "std     0.302564  \n",
       "min     0.613916  \n",
       "25%     0.910479  \n",
       "50%     1.229248  \n",
       "75%     1.422052  \n",
       "max     1.713321  \n",
       "\n",
       "[8 rows x 266 columns]"
      ]
     },
     "execution_count": 88,
     "metadata": {},
     "output_type": "execute_result"
    }
   ],
   "source": [
    "data.describe()"
   ]
  },
  {
   "cell_type": "code",
   "execution_count": 90,
   "id": "b598adc8",
   "metadata": {},
   "outputs": [
    {
     "data": {
      "text/plain": [
       "count    239.000000\n",
       "mean       4.154185\n",
       "std        4.575980\n",
       "min        0.028010\n",
       "25%        0.851900\n",
       "50%        2.667119\n",
       "75%        6.158644\n",
       "max       32.179371\n",
       "Name: 2017, dtype: float64"
      ]
     },
     "execution_count": 90,
     "metadata": {},
     "output_type": "execute_result"
    }
   ],
   "source": [
    "data.loc[year].describe()"
   ]
  },
  {
   "cell_type": "code",
   "execution_count": null,
   "id": "5f79b579",
   "metadata": {},
   "outputs": [],
   "source": []
  },
  {
   "cell_type": "markdown",
   "id": "d85a0348",
   "metadata": {},
   "source": [
    "#### And in the US?"
   ]
  },
  {
   "cell_type": "code",
   "execution_count": 91,
   "id": "3d022ae7",
   "metadata": {},
   "outputs": [
    {
     "data": {
      "text/plain": [
       "14.8058824221278"
      ]
     },
     "execution_count": 91,
     "metadata": {},
     "output_type": "execute_result"
    }
   ],
   "source": [
    "data.loc[year]['USA']"
   ]
  },
  {
   "cell_type": "code",
   "execution_count": null,
   "id": "b3744ad2",
   "metadata": {},
   "outputs": [],
   "source": []
  },
  {
   "cell_type": "markdown",
   "id": "570ca224",
   "metadata": {},
   "source": [
    "#### How can we tell a story?\n",
    "- US is above the mean\n",
    "- US is not the max\n",
    "- It is above 75%"
   ]
  },
  {
   "cell_type": "markdown",
   "id": "43528fd1",
   "metadata": {},
   "source": [
    "#### Some more advanced matplotlib"
   ]
  },
  {
   "cell_type": "code",
   "execution_count": null,
   "id": "6b1048a2",
   "metadata": {},
   "outputs": [],
   "source": []
  },
  {
   "cell_type": "markdown",
   "id": "a7a6591d",
   "metadata": {},
   "source": [
    "### Creative story telling with data visualization\n",
    "\n",
    "Check out this video https://www.youtube.com/watch?v=jbkSRLYSojo"
   ]
  },
  {
   "cell_type": "code",
   "execution_count": null,
   "id": "86304da3",
   "metadata": {},
   "outputs": [],
   "source": []
  },
  {
   "cell_type": "code",
   "execution_count": null,
   "id": "1e9d0d36",
   "metadata": {},
   "outputs": [],
   "source": []
  }
 ],
 "metadata": {
  "kernelspec": {
   "display_name": "Python 3 (ipykernel)",
   "language": "python",
   "name": "python3"
  },
  "language_info": {
   "codemirror_mode": {
    "name": "ipython",
    "version": 3
   },
   "file_extension": ".py",
   "mimetype": "text/x-python",
   "name": "python",
   "nbconvert_exporter": "python",
   "pygments_lexer": "ipython3",
   "version": "3.9.7"
  }
 },
 "nbformat": 4,
 "nbformat_minor": 5
}
